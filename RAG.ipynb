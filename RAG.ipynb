{
 "cells": [
  {
   "cell_type": "markdown",
   "metadata": {},
   "source": [
    "### Loading documents (pdf and word files) for RAG\n",
    "\n",
    "In this step, we gather the source materials—PDFs and Word documents—that our application will use to provide information. By loading these documents into our system, we enable it to access and process the content, forming the foundation for our Retrieval Augmented Generation (RAG) application. LangChain offers various document loaders to facilitate this process efficiently."
   ]
  },
  {
   "cell_type": "code",
   "execution_count": 1,
   "metadata": {},
   "outputs": [
    {
     "name": "stdout",
     "output_type": "stream",
     "text": [
      "Loaded 7 documents from the folder.\n"
     ]
    }
   ],
   "source": [
    "from langchain_community.document_loaders import PyPDFLoader, Docx2txtLoader\n",
    "from langchain_text_splitters import RecursiveCharacterTextSplitter\n",
    "from typing import List\n",
    "from langchain_core.documents import Document\n",
    "import os\n",
    "\n",
    "def load_documents(folder_path: str) -> List[Document]:\n",
    "    documents = []\n",
    "    for filename in os.listdir(folder_path):\n",
    "        file_path = os.path.join(folder_path, filename)\n",
    "        if filename.endswith('.pdf'):\n",
    "            loader = PyPDFLoader(file_path)\n",
    "        elif filename.endswith('.docx'):\n",
    "            loader = Docx2txtLoader(file_path)\n",
    "        else:\n",
    "            print(f\"Unsupported file type: {filename}\")\n",
    "            continue\n",
    "        documents.extend(loader.load())\n",
    "    return documents\n",
    "\n",
    "folder_path = \"docs\"\n",
    "documents = load_documents(folder_path)\n",
    "print(f\"Loaded {len(documents)} documents from the folder.\")"
   ]
  },
  {
   "cell_type": "markdown",
   "metadata": {},
   "source": [
    "Checking the contents of the very first document"
   ]
  },
  {
   "cell_type": "code",
   "execution_count": 4,
   "metadata": {},
   "outputs": [
    {
     "name": "stdout",
     "output_type": "stream",
     "text": [
      "page_content='Question: \n",
      "Explain why it is impossible to design a perfectly secure Network & Information \n",
      "System. \n",
      "Answer: \n",
      "It is impossible to design a perfectly secure Network & Information System due to the \n",
      "following reasons: \n",
      "1. Evolving Threats: Cybersecurity threats are constantly changing. Attackers develop \n",
      "new techniques and exploit previously unknown vulnerabilities, making it \n",
      "impossible to anticipate and counter all potential attacks. \n",
      "2. Human Error: Many security breaches result from mistakes made by users or \n",
      "administrators, such as weak passwords, improper configurations, or falling victim \n",
      "to social engineering attacks. Human behavior is inherently unpredictable and \n",
      "cannot be fully secured. \n",
      "3. Complexity of Systems: Modern systems are highly complex, with multiple \n",
      "interconnected components. This complexity increases the likelihood of \n",
      "vulnerabilities that attackers can exploit. Ensuring every component is secure is \n",
      "practically unachievable. \n",
      "4. Resource Limitations: Implementing security measures involves costs and trade-\n",
      "offs, such as reduced system performance or higher maintenance requirements. \n",
      "Organizations often cannot afford the resources needed for comprehensive \n",
      "security. \n",
      "5. Conflict Between Usability and Security: Strong security measures often make \n",
      "systems harder to use, leading to resistance from users. Balancing usability with \n",
      "security inevitably creates gaps that attackers can exploit. \n",
      "These challenges ensure that absolute security remains unattainable; instead, the goal is \n",
      "to mitigate risks to an acceptable level through continuous monitoring and updating of \n",
      "security measures. \n",
      "Question: \n",
      "(b) DETERMINE the following Denial of Service Attacks with the help of example [CLO-\n",
      "2] [6 Marks] ' metadata={'source': 'docs\\\\nis past papers.pdf', 'page': 0}\n"
     ]
    }
   ],
   "source": [
    "print(documents[0])"
   ]
  },
  {
   "cell_type": "markdown",
   "metadata": {},
   "source": [
    "### Splitting documents\n",
    "\n",
    "Once the documents are loaded, we need to divide them into smaller, manageable sections or chunks. This segmentation is crucial because it allows the system to retrieve and process relevant information more effectively, especially when dealing with large texts. LangChain provides text splitters that assist in breaking down documents appropriately."
   ]
  },
  {
   "cell_type": "markdown",
   "metadata": {},
   "source": [
    "We're using 1000-characters chunk size with a 200-characters overlap. This can be adapted based on your needs and the type of data being used for RAG. "
   ]
  },
  {
   "cell_type": "code",
   "execution_count": 2,
   "metadata": {},
   "outputs": [
    {
     "name": "stdout",
     "output_type": "stream",
     "text": [
      "Split the documents into 14 chunks.\n"
     ]
    }
   ],
   "source": [
    "# Split the documents into chunks of 1000 characters with 200 characters overlap\n",
    "text_splitter = RecursiveCharacterTextSplitter(\n",
    "    chunk_size=1000,\n",
    "    chunk_overlap=200,\n",
    "    length_function=len\n",
    ")\n",
    "\n",
    "splits = text_splitter.split_documents(documents)\n",
    "print(f\"Split the documents into {len(splits)} chunks.\")"
   ]
  },
  {
   "cell_type": "markdown",
   "metadata": {},
   "source": [
    "Checking the contents of the very first chunk"
   ]
  },
  {
   "cell_type": "code",
   "execution_count": 5,
   "metadata": {},
   "outputs": [
    {
     "name": "stdout",
     "output_type": "stream",
     "text": [
      "page_content='Question: \n",
      "Explain why it is impossible to design a perfectly secure Network & Information \n",
      "System. \n",
      "Answer: \n",
      "It is impossible to design a perfectly secure Network & Information System due to the \n",
      "following reasons: \n",
      "1. Evolving Threats: Cybersecurity threats are constantly changing. Attackers develop \n",
      "new techniques and exploit previously unknown vulnerabilities, making it \n",
      "impossible to anticipate and counter all potential attacks. \n",
      "2. Human Error: Many security breaches result from mistakes made by users or \n",
      "administrators, such as weak passwords, improper configurations, or falling victim \n",
      "to social engineering attacks. Human behavior is inherently unpredictable and \n",
      "cannot be fully secured. \n",
      "3. Complexity of Systems: Modern systems are highly complex, with multiple \n",
      "interconnected components. This complexity increases the likelihood of \n",
      "vulnerabilities that attackers can exploit. Ensuring every component is secure is \n",
      "practically unachievable.' metadata={'source': 'docs\\\\nis past papers.pdf', 'page': 0}\n"
     ]
    }
   ],
   "source": [
    "print(splits[0])"
   ]
  },
  {
   "cell_type": "markdown",
   "metadata": {},
   "source": [
    "Let's also check out the metadata of the chunk. Metadata tells us more about the context of the chunk amd can help in applying filters when performing RAG, for example filtering by a certain document/source file, or by a date/time constraint etc."
   ]
  },
  {
   "cell_type": "code",
   "execution_count": 6,
   "metadata": {},
   "outputs": [
    {
     "name": "stdout",
     "output_type": "stream",
     "text": [
      "{'source': 'docs\\\\nis past papers.pdf', 'page': 0}\n"
     ]
    }
   ],
   "source": [
    "print(splits[0].metadata)"
   ]
  },
  {
   "cell_type": "markdown",
   "metadata": {},
   "source": [
    "###  Creating embeddings using Cohere embeddings\n",
    "\n",
    "After splitting the documents, we transform each chunk into a numerical representation known as an embedding using Cohere's embedding models. These embeddings capture the semantic meaning of the text, enabling the system to understand and compare the content of different chunks. LangChain integrates seamlessly with Cohere to facilitate this embedding process."
   ]
  },
  {
   "cell_type": "markdown",
   "metadata": {},
   "source": [
    "Get (free trial) API Key here: https://dashboard.cohere.com/api-keys"
   ]
  },
  {
   "cell_type": "code",
   "execution_count": 9,
   "metadata": {},
   "outputs": [],
   "source": [
    "import getpass\n",
    "import os\n",
    "from dotenv import load_dotenv\n",
    "\n",
    "# Load environment variables from .env file\n",
    "load_dotenv()\n",
    "\n",
    "# Set the API key as an environment variable\n",
    "if not os.getenv(\"COHERE_API_KEY\"):\n",
    "    os.environ[\"COHERE_API_KEY\"] = os.getenv(\"COHERE_API_KEY\")"
   ]
  },
  {
   "cell_type": "markdown",
   "metadata": {},
   "source": [
    "We're using Cohere's ```embed-english-light-v3.0``` which is a lighter and faster version of Cohere's latest english embedding model."
   ]
  },
  {
   "cell_type": "code",
   "execution_count": 10,
   "metadata": {},
   "outputs": [],
   "source": [
    "from langchain_cohere import CohereEmbeddings\n",
    "\n",
    "embeddings = CohereEmbeddings(\n",
    "    model=\"embed-english-light-v3.0\",\n",
    ")"
   ]
  },
  {
   "cell_type": "markdown",
   "metadata": {},
   "source": [
    "Creating the embeddings for all the document chunks"
   ]
  },
  {
   "cell_type": "code",
   "execution_count": 11,
   "metadata": {},
   "outputs": [
    {
     "name": "stdout",
     "output_type": "stream",
     "text": [
      "Created embeddings for 14 document chunks.\n"
     ]
    }
   ],
   "source": [
    "document_embeddings = embeddings.embed_documents([split.page_content for split in splits])\n",
    "print(f\"Created embeddings for {len(document_embeddings)} document chunks.\")"
   ]
  },
  {
   "cell_type": "markdown",
   "metadata": {},
   "source": [
    "### Set up the vector store for storing the embeddings\n",
    "\n",
    "With embeddings created, we store them in a vector store—a specialized database designed for handling high-dimensional vectors. This setup allows for efficient storage and quick retrieval of embeddings, which is essential for the performance of our RAG application. LangChain offers support for various vector stores to manage embeddings effectively."
   ]
  },
  {
   "cell_type": "markdown",
   "metadata": {},
   "source": [
    "Using Chroma vectorstore provided by LangChain for now as it is quick and easy to configure for basic test applications"
   ]
  },
  {
   "cell_type": "code",
   "execution_count": 13,
   "metadata": {},
   "outputs": [
    {
     "name": "stdout",
     "output_type": "stream",
     "text": [
      "Vector store created and persisted to './chroma_db'\n"
     ]
    }
   ],
   "source": [
    "from langchain_chroma import Chroma\n",
    "\n",
    "collection_name = \"my_collection\" # choose any name for your collection\n",
    "vectorstore = Chroma.from_documents(\n",
    "    collection_name=collection_name,\n",
    "    documents=splits,\n",
    "    embedding=embeddings,\n",
    "    persist_directory=\"./chroma_db\" # directory to store the vector store\n",
    ")\n",
    "print(\"Vector store created and persisted to './chroma_db'\")\n"
   ]
  },
  {
   "cell_type": "markdown",
   "metadata": {},
   "source": [
    "### Performing vector search\n",
    "\n",
    "Vector search involves querying the vector store to find embeddings that are most similar to a given input query. This process helps in identifying the most relevant chunks of information from our documents in response to user queries. LangChain provides tools to perform vector searches efficiently, ensuring that the most pertinent information is retrieved."
   ]
  },
  {
   "cell_type": "markdown",
   "metadata": {},
   "source": [
    "Ask any question that is relevant to the document YOU have uploaded and requires an answer strictly using its contents.\n",
    "Note the k parameter - it retrieves the top k most relevant chunks. Here we have set it to 2 to retrieve the top 2 most relevant chunks. You can try changing this."
   ]
  },
  {
   "cell_type": "code",
   "execution_count": 14,
   "metadata": {},
   "outputs": [
    {
     "name": "stdout",
     "output_type": "stream",
     "text": [
      "\n",
      "Top 2 most relevant chunks for the query: 'Why is it difficult to implement security in a system?'\n",
      "\n",
      "Result 1:\n",
      "Source: docs\\nis past papers.pdf\n",
      "Content: interconnected components. This complexity increases the likelihood of \n",
      "vulnerabilities that attackers can exploit. Ensuring every component is secure is \n",
      "practically unachievable. \n",
      "4. Resource Limitations: Implementing security measures involves costs and trade-\n",
      "offs, such as reduced system performance or higher maintenance requirements. \n",
      "Organizations often cannot afford the resources needed for comprehensive \n",
      "security. \n",
      "5. Conflict Between Usability and Security: Strong security measures often make \n",
      "systems harder to use, leading to resistance from users. Balancing usability with \n",
      "security inevitably creates gaps that attackers can exploit. \n",
      "These challenges ensure that absolute security remains unattainable; instead, the goal is \n",
      "to mitigate risks to an acceptable level through continuous monitoring and updating of \n",
      "security measures. \n",
      "Question: \n",
      "(b) DETERMINE the following Denial of Service Attacks with the help of example [CLO-\n",
      "2] [6 Marks]\n",
      "\n",
      "Result 2:\n",
      "Source: docs\\nis past papers.pdf\n",
      "Content: Question: \n",
      "Explain why it is impossible to design a perfectly secure Network & Information \n",
      "System. \n",
      "Answer: \n",
      "It is impossible to design a perfectly secure Network & Information System due to the \n",
      "following reasons: \n",
      "1. Evolving Threats: Cybersecurity threats are constantly changing. Attackers develop \n",
      "new techniques and exploit previously unknown vulnerabilities, making it \n",
      "impossible to anticipate and counter all potential attacks. \n",
      "2. Human Error: Many security breaches result from mistakes made by users or \n",
      "administrators, such as weak passwords, improper configurations, or falling victim \n",
      "to social engineering attacks. Human behavior is inherently unpredictable and \n",
      "cannot be fully secured. \n",
      "3. Complexity of Systems: Modern systems are highly complex, with multiple \n",
      "interconnected components. This complexity increases the likelihood of \n",
      "vulnerabilities that attackers can exploit. Ensuring every component is secure is \n",
      "practically unachievable.\n",
      "\n"
     ]
    }
   ],
   "source": [
    "query = \"Why is it difficult to implement security in a system?\"\n",
    "\n",
    "search_results = vectorstore.similarity_search(query, k=2) # vector search here is being performed with k=2 meaning fetch the top 2 most relevant chunks\n",
    "\n",
    "print(f\"\\nTop 2 most relevant chunks for the query: '{query}'\\n\")\n",
    "\n",
    "for i, result in enumerate(search_results, 1):\n",
    "    print(f\"Result {i}:\")\n",
    "    print(f\"Source: {result.metadata.get('source', 'Unknown')}\")\n",
    "    print(f\"Content: {result.page_content}\")\n",
    "    print()\n"
   ]
  },
  {
   "cell_type": "markdown",
   "metadata": {},
   "source": [
    "### Creating a retriever for the RAG chain\n",
    "\n",
    "The retriever acts as a bridge between the user's query and the relevant document chunks. It uses vector search to fetch the most relevant embeddings from the vector store, providing the necessary context for generating accurate responses. LangChain's retriever components are designed to streamline this retrieval process within the RAG framework."
   ]
  },
  {
   "cell_type": "code",
   "execution_count": 15,
   "metadata": {},
   "outputs": [
    {
     "name": "stdout",
     "output_type": "stream",
     "text": [
      "[Document(metadata={'page': 0, 'source': 'docs\\\\nis past papers.pdf'}, page_content='interconnected components. This complexity increases the likelihood of \\nvulnerabilities that attackers can exploit. Ensuring every component is secure is \\npractically unachievable. \\n4. Resource Limitations: Implementing security measures involves costs and trade-\\noffs, such as reduced system performance or higher maintenance requirements. \\nOrganizations often cannot afford the resources needed for comprehensive \\nsecurity. \\n5. Conflict Between Usability and Security: Strong security measures often make \\nsystems harder to use, leading to resistance from users. Balancing usability with \\nsecurity inevitably creates gaps that attackers can exploit. \\nThese challenges ensure that absolute security remains unattainable; instead, the goal is \\nto mitigate risks to an acceptable level through continuous monitoring and updating of \\nsecurity measures. \\nQuestion: \\n(b) DETERMINE the following Denial of Service Attacks with the help of example [CLO-\\n2] [6 Marks]'), Document(metadata={'page': 0, 'source': 'docs\\\\nis past papers.pdf'}, page_content='Question: \\nExplain why it is impossible to design a perfectly secure Network & Information \\nSystem. \\nAnswer: \\nIt is impossible to design a perfectly secure Network & Information System due to the \\nfollowing reasons: \\n1. Evolving Threats: Cybersecurity threats are constantly changing. Attackers develop \\nnew techniques and exploit previously unknown vulnerabilities, making it \\nimpossible to anticipate and counter all potential attacks. \\n2. Human Error: Many security breaches result from mistakes made by users or \\nadministrators, such as weak passwords, improper configurations, or falling victim \\nto social engineering attacks. Human behavior is inherently unpredictable and \\ncannot be fully secured. \\n3. Complexity of Systems: Modern systems are highly complex, with multiple \\ninterconnected components. This complexity increases the likelihood of \\nvulnerabilities that attackers can exploit. Ensuring every component is secure is \\npractically unachievable.')]\n"
     ]
    }
   ],
   "source": [
    "retriever = vectorstore.as_retriever(search_kwargs={\"k\": 2}) # set k according to your requirements\n",
    "\n",
    "retriever_results = retriever.invoke(\"Why is it difficult to implement security in a system?\") # ask a question relevant to your uploaded data\n",
    "\n",
    "print(retriever_results)"
   ]
  },
  {
   "cell_type": "markdown",
   "metadata": {},
   "source": [
    "### Building the RAG chain\n",
    "\n",
    "In the final step, we construct the RAG chain, which combines the retrieval and generation processes. The retriever supplies relevant document chunks based on the user's query, and the language model uses this information to generate informed and contextually accurate responses. LangChain facilitates the seamless integration of these components using the | operator to construct the RAG chain efficiently with minimal code."
   ]
  },
  {
   "cell_type": "markdown",
   "metadata": {},
   "source": [
    "We'll use Llama 3.3 as our LLM of choice, through Groq. Get Groq API Key here: https://console.groq.com/keys"
   ]
  },
  {
   "cell_type": "code",
   "execution_count": 16,
   "metadata": {},
   "outputs": [],
   "source": [
    "from dotenv import load_dotenv\n",
    "import os\n",
    "\n",
    "load_dotenv()\n",
    "groq_api_key = os.getenv(\"GROQ_API_KEY\")\n",
    "os.environ[\"GROQ_API_KEY\"] = groq_api_key"
   ]
  },
  {
   "cell_type": "code",
   "execution_count": 17,
   "metadata": {},
   "outputs": [],
   "source": [
    "from langchain_groq import ChatGroq\n",
    "\n",
    "llm = ChatGroq(temperature=0, model_name=\"llama-3.3-70b-versatile\")"
   ]
  },
  {
   "cell_type": "code",
   "execution_count": 18,
   "metadata": {},
   "outputs": [],
   "source": [
    "from langchain_core.prompts import ChatPromptTemplate\n",
    "from langchain.schema.runnable import RunnablePassthrough\n",
    "from langchain_core.output_parsers import StrOutputParser\n",
    "\n",
    "# Define the template for the chat prompt - this will be used for each query - the context and question will be filled in dynamically\n",
    "template = \"\"\"Answer the question based only on the following context:\n",
    "{context}\n",
    "Question: {question}\n",
    "Answer: \"\"\"\n",
    "\n",
    "prompt = ChatPromptTemplate.from_template(template)\n",
    "\n",
    "\n",
    "# Define a function to convert a list of documents to a single string - to inject the retrieved context as string into the prompt (\"context\" placeholder)\n",
    "def docs2str(docs):\n",
    "    return \"\\n\\n\".join(doc.page_content for doc in docs)\n",
    "\n",
    "# Define the RAG chain - the | operator is used to chain the components together, one after the other in order\n",
    "rag_chain = (\n",
    "    {\"context\": retriever | docs2str, \"question\": RunnablePassthrough()}\n",
    "    | prompt\n",
    "    | llm\n",
    "    | StrOutputParser() # a built-in output parser provided by LangChain to convert the model output to a string for better readability\n",
    ")\n"
   ]
  },
  {
   "cell_type": "markdown",
   "metadata": {},
   "source": [
    "#### Lets test our RAG chain now"
   ]
  },
  {
   "cell_type": "code",
   "execution_count": 20,
   "metadata": {},
   "outputs": [
    {
     "name": "stdout",
     "output_type": "stream",
     "text": [
      "Question: What are different kinds of flooding attacks?\n",
      "Answer: Based on the provided context, there are at least two kinds of flooding attacks:\n",
      "\n",
      "1. TCP SYN Flooding Attacks: This type of attack exploits the TCP three-way handshake mechanism by sending a large number of SYN packets with spoofed source addresses to the server, consuming server resources.\n",
      "\n",
      "2. ICMP Flooding Attacks: This type of attack overwhelms a server by flooding it with ICMP packets, such as echo requests (ping), consuming the target's bandwidth and processing power.\n",
      "\n",
      "Additionally, there is a mention of \"Reflection Attacks\", which may also be a type of flooding attack, but the context does not provide a detailed explanation of this specific attack.\n"
     ]
    }
   ],
   "source": [
    "question = \"What are different kinds of flooding attacks?\" # ask a question relevant to your uploaded data\n",
    "\n",
    "response = rag_chain.invoke(question) # invoke the RAG chain with the question\n",
    "\n",
    "print(f\"Question: {question}\")\n",
    "\n",
    "print(f\"Answer: {response}\")\n"
   ]
  },
  {
   "cell_type": "code",
   "execution_count": null,
   "metadata": {},
   "outputs": [],
   "source": []
  }
 ],
 "metadata": {
  "kernelspec": {
   "display_name": "venv",
   "language": "python",
   "name": "python3"
  },
  "language_info": {
   "codemirror_mode": {
    "name": "ipython",
    "version": 3
   },
   "file_extension": ".py",
   "mimetype": "text/x-python",
   "name": "python",
   "nbconvert_exporter": "python",
   "pygments_lexer": "ipython3",
   "version": "3.11.5"
  }
 },
 "nbformat": 4,
 "nbformat_minor": 2
}
